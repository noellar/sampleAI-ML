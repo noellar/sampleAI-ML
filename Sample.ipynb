{
 "cells": [
  {
   "cell_type": "code",
   "execution_count": null,
   "metadata": {
    "colab": {
     "base_uri": "https://localhost:8080/"
    },
    "id": "zOGFJSgy-MYN",
    "outputId": "269ff249-4d22-46ae-a71e-b4d228017f2f"
   },
   "outputs": [],
   "source": [
    "#two-class classification analysis on dataset using a neural network\n",
    "\n",
    "\n",
    "import tensorflow as tf\n",
    "device_name = tf.test.gpu_device_name()\n",
    "if device_name != '/device:GPU:0':\n",
    "  raise SystemError('GPU device not found')\n",
    "print('Found GPU at: {}'.format(device_name))"
   ]
  },
  {
   "cell_type": "code",
   "execution_count": null,
   "metadata": {
    "colab": {
     "base_uri": "https://localhost:8080/",
     "height": 76
    },
    "id": "WrMXpuze-uJq",
    "outputId": "0a4aa13b-1dd8-44f1-de8d-78b356361a99"
   },
   "outputs": [],
   "source": [
    "from google.colab import files\n",
    "uploaded = files.upload()"
   ]
  },
  {
   "cell_type": "code",
   "execution_count": null,
   "metadata": {
    "colab": {
     "base_uri": "https://localhost:8080/"
    },
    "id": "q-Iwiqvl-vSx",
    "outputId": "4facf209-4f6a-40a0-ac1c-c9da34949f9f"
   },
   "outputs": [],
   "source": [
    "import pandas as pd\n",
    "from tensorflow import keras\n",
    "from keras.models import Sequential\n",
    "from keras.layers import Dense, Activation\n",
    "from keras.optimizers import Adam\n",
    "from keras import utils\n",
    "from keras import utils\n",
    "from sklearn.preprocessing import scale\n",
    "from sklearn.preprocessing import label_binarize\n",
    "from sklearn.metrics import confusion_matrix, accuracy_score, classification_report\n",
    "import numpy as np\n",
    "\n",
    "\n",
    "def celldna():\n",
    "  df=pd.read_csv('CellDNA.csv')\n",
    "  df.columns = [\"Column1\", \"Column2\", \"Column3\", \"Column4\", \"Column5\", \"Column6\", \"Column7\",\n",
    "                  \"Column8\", \"Column9\", \"Column10\", \"Column11\", \"Column12\", \"Column13\", \"Column14\"]\n",
    "\n",
    "\n",
    "  # Check if values have NaN values\n",
    "  print(df.isnull().any())\n",
    "\n",
    "  #binary statement\n",
    "  lastcol = df.iloc[:,[13]]\n",
    "  Y1 = label_binarize(lastcol, classes=[0, 1])\n",
    "  Y1 = Y1[:,[0]]\n",
    "\n",
    "  # logical operation\n",
    "  Y = utils.to_categorical(Y1, 2)\n",
    "  #Y = np.array(Y[:,[0]]).astype('float32')\n",
    "  Y = np.array(Y).astype('float32')\n",
    "\n",
    "\n",
    "  #preprocessing for X\n",
    "  predictorcols = df.iloc[:,0:13]\n",
    "  X = scale(predictorcols)\n",
    "  X = np.array(X).astype('float32')\n",
    "\n",
    "\n",
    "\n",
    "  #Create model\n",
    "  model = Sequential()\n",
    "  model.add(Dense(10, input_dim=13, activation='relu')) # Input Layer\n",
    "  model.add(Dense(6, activation='relu')) # Hidden Layer\n",
    "  model.add(Dense(2, activation='softmax')) # Output Layer\n",
    "\n",
    "  #compile model\n",
    "  adam = Adam(learning_rate=0.1)\n",
    "  model.compile(loss='binary_crossentropy', optimizer='adam', metrics=['accuracy'])\n",
    "\n",
    "  #layers\n",
    "  model.summary()\n",
    "\n",
    "  #fit model\n",
    "  model.fit(X,Y, epochs=150, batch_size=10, verbose=1)\n",
    "\n",
    "  #evaluate the model\n",
    "  scores = model.evaluate(X,Y)\n",
    "\n",
    "  #Prediction\n",
    "  Y_hat  = model.predict(X)\n",
    "  y_pred=np.argmax(Y_hat, axis=1)\n",
    "  y_test=np.argmax(Y, axis=1)\n",
    "\n",
    "\n",
    "  #Accuracy/CFM/Classification Report\n",
    "  acc_score = accuracy_score(y_pred, y_test)\n",
    "  print(\"\\n\", \"CFM: \\n\", confusion_matrix(y_pred, y_test))\n",
    "  print(\"\\n\", \"Accuracy:\" + str(acc_score))\n",
    "  print(\"\\n\", \"Classification report: \\n\", classification_report(y_pred, y_test))\n",
    "\n",
    "\n",
    "celldna()"
   ]
  }
 ],
 "metadata": {
  "accelerator": "GPU",
  "colab": {
   "gpuType": "T4",
   "provenance": []
  },
  "kernelspec": {
   "display_name": "Python 3",
   "language": "python",
   "name": "python3"
  },
  "language_info": {
   "codemirror_mode": {
    "name": "ipython",
    "version": 3
   },
   "file_extension": ".py",
   "mimetype": "text/x-python",
   "name": "python",
   "nbconvert_exporter": "python",
   "pygments_lexer": "ipython3",
   "version": "3.8.8"
  }
 },
 "nbformat": 4,
 "nbformat_minor": 1
}
